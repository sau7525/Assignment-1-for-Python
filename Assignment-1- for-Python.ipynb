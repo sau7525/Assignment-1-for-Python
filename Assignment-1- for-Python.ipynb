{
 "cells": [
  {
   "cell_type": "code",
   "execution_count": null,
   "id": "fdd8b4d7-f16f-4bbd-a09b-83f3e580700f",
   "metadata": {},
   "outputs": [],
   "source": [
    "# #ans1 =\n",
    "   Python Programming language is developed by Guido Van Rossum."
   ]
  },
  {
   "cell_type": "code",
   "execution_count": null,
   "id": "01346431-df5c-423f-858f-979b79973d5b",
   "metadata": {},
   "outputs": [],
   "source": [
    "# #ans2 =\n",
    "   Python supports multi-paradigm programming language such as Oops, Structured and Functional programing.  "
   ]
  },
  {
   "cell_type": "code",
   "execution_count": null,
   "id": "37f67b15-88a4-43fa-a1ed-096fe3941daa",
   "metadata": {},
   "outputs": [],
   "source": [
    "# #ans3 =\n",
    "   Yes,Python case sensitive when dealing with identifiers. "
   ]
  },
  {
   "cell_type": "code",
   "execution_count": null,
   "id": "4c4a0b27-3f30-437e-8851-e31c9f94e57d",
   "metadata": {},
   "outputs": [],
   "source": [
    "# #ans4 =\n",
    "   The correct extension of the Python is .py ."
   ]
  },
  {
   "cell_type": "code",
   "execution_count": null,
   "id": "39e9755e-41db-4f8f-8abc-4fa9d5295373",
   "metadata": {},
   "outputs": [],
   "source": [
    "# #ans5 =\n",
    "   Python is an Interpreted language."
   ]
  },
  {
   "cell_type": "code",
   "execution_count": null,
   "id": "738352dd-9789-4d7c-8f7a-034e60113efe",
   "metadata": {},
   "outputs": [],
   "source": [
    "# #ans6 =\n",
    "   The following blocks:a module,a function body,and a class defination."
   ]
  },
  {
   "cell_type": "code",
   "execution_count": null,
   "id": "4c1b5ea0",
   "metadata": {},
   "outputs": [],
   "source": [
    "# #ans7 =\n",
    "   A character for single line comments is # . "
   ]
  },
  {
   "cell_type": "code",
   "execution_count": 16,
   "id": "7d6aed86-19dc-4138-aefa-1a7eb93e6fe3",
   "metadata": {},
   "outputs": [
    {
     "data": {
      "text/plain": [
       "'3.10.8 | packaged by conda-forge | (main, Nov 22 2022, 08:26:04) [GCC 10.4.0]'"
      ]
     },
     "execution_count": 16,
     "metadata": {},
     "output_type": "execute_result"
    }
   ],
   "source": [
    "# #ans8 =\n",
    "import sys\n",
    "sys.version"
   ]
  },
  {
   "cell_type": "code",
   "execution_count": null,
   "id": "806d5d29-b80f-4617-a926-24d936279f8b",
   "metadata": {},
   "outputs": [],
   "source": [
    "# #ans9 =\n",
    "   Python supports the creation of anonymous functions at runtime ,using a construct called lambda ."
   ]
  },
  {
   "cell_type": "code",
   "execution_count": null,
   "id": "27c3a94a-7fa0-428b-8d31-19536fea757f",
   "metadata": {},
   "outputs": [],
   "source": [
    "# #ans10 =\n",
    "   Pip is package management system used to install libraries in Python."
   ]
  },
  {
   "cell_type": "code",
   "execution_count": null,
   "id": "df5ebc05-7c7a-4ecc-a01f-4394ea1874a3",
   "metadata": {},
   "outputs": [],
   "source": [
    "# #ans11 =\n",
    "   A Few build in functions are print(), open(), ord(), range(), len() ."
   ]
  },
  {
   "cell_type": "code",
   "execution_count": null,
   "id": "e8ff355a-26e7-4696-a718-7b68531b09ea",
   "metadata": {},
   "outputs": [],
   "source": [
    "# #ans12 =\n",
    "   An indentifier can have a maximum length of 79 characters in Python."
   ]
  },
  {
   "cell_type": "code",
   "execution_count": null,
   "id": "590b93c3-be09-4761-bcd5-7aa51e9dc819",
   "metadata": {},
   "outputs": [],
   "source": [
    "# #ans13 =\n",
    "   Some benifits of Python are -\n",
    "    (a).Easy to use and understand.\n",
    "    (b).Free and open source.\n",
    "    (c).High level language.\n",
    "    (d).Strong community and support. "
   ]
  },
  {
   "cell_type": "code",
   "execution_count": null,
   "id": "46218a22-61bb-4f74-bd0b-394ceb7223c9",
   "metadata": {},
   "outputs": [],
   "source": [
    "# #ans14 =\n",
    "   Memory of Python is managed by Python private heap space."
   ]
  },
  {
   "cell_type": "code",
   "execution_count": null,
   "id": "a6f1ea73-9fd3-42e3-9e85-aba46bd0a910",
   "metadata": {},
   "outputs": [],
   "source": [
    "# #ans16 =\n",
    "   Yes,identation is requare in Python"
   ]
  }
 ],
 "metadata": {
  "kernelspec": {
   "display_name": "Python 3 (ipykernel)",
   "language": "python",
   "name": "python3"
  },
  "language_info": {
   "codemirror_mode": {
    "name": "ipython",
    "version": 3
   },
   "file_extension": ".py",
   "mimetype": "text/x-python",
   "name": "python",
   "nbconvert_exporter": "python",
   "pygments_lexer": "ipython3",
   "version": "3.10.8"
  }
 },
 "nbformat": 4,
 "nbformat_minor": 5
}
